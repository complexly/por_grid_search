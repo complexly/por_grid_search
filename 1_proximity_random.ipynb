{
 "cells": [
  {
   "cell_type": "code",
   "execution_count": 1,
   "metadata": {},
   "outputs": [],
   "source": [
    "import numpy as np\n",
    "import csv"
   ]
  },
  {
   "cell_type": "code",
   "execution_count": 2,
   "metadata": {},
   "outputs": [],
   "source": [
    "proxfile = open('proximity/random/proximity.tsv','w')\n",
    "writer = csv.writer(proxfile,delimiter='\\t')\n",
    "writer.writerow(['pid','datasource','method','param'])\n",
    "proxfile.close()"
   ]
  },
  {
   "cell_type": "code",
   "execution_count": 3,
   "metadata": {},
   "outputs": [],
   "source": [
    "## generate 5 random matrices as the baseline\n",
    "datasource = 'random'\n",
    "method='random'\n",
    "for proxid in range(5):\n",
    "    np.random.seed(proxid)\n",
    "    A=np.random.uniform(size=(415,415))\n",
    "    A = (A+A.T)/2\n",
    "    np.fill_diagonal(A, 0)\n",
    "    np.save(f'proximity/random/{proxid}.npy', A)\n",
    "    with open('proximity/random/proximity.tsv','a') as proxfile:\n",
    "        writer = csv.writer(proxfile,delimiter='\\t')\n",
    "        writer.writerow([proxid,datasource,method,proxid])"
   ]
  },
  {
   "cell_type": "code",
   "execution_count": null,
   "metadata": {},
   "outputs": [],
   "source": []
  }
 ],
 "metadata": {
  "kernelspec": {
   "display_name": "Python 3 (ipykernel)",
   "language": "python",
   "name": "python3"
  },
  "language_info": {
   "codemirror_mode": {
    "name": "ipython",
    "version": 3
   },
   "file_extension": ".py",
   "mimetype": "text/x-python",
   "name": "python",
   "nbconvert_exporter": "python",
   "pygments_lexer": "ipython3",
   "version": "3.8.12"
  }
 },
 "nbformat": 4,
 "nbformat_minor": 4
}
