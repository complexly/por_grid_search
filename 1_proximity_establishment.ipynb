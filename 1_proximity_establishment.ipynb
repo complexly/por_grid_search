{
 "cells": [
  {
   "cell_type": "code",
   "execution_count": 1,
   "metadata": {},
   "outputs": [],
   "source": [
    "import pandas as pd\n",
    "import numpy as np\n",
    "import scipy.sparse as sp\n",
    "import csv\n",
    "_= np.seterr(divide = 'ignore') "
   ]
  },
  {
   "cell_type": "code",
   "execution_count": 2,
   "metadata": {},
   "outputs": [],
   "source": [
    "## generate relatedness matrices from binary dataset\n",
    "def proximity_from_binspmat(spmat,method,param=None):\n",
    "    #diversity = spmat.sum(axis=1).A1\n",
    "    ubiquity = spmat.sum(axis=0).A1\n",
    "    #diversity[diversity<1] = 1\n",
    "    ubiquity[ubiquity<1] = 1\n",
    "    if method=='condprob':\n",
    "        x = float(param)\n",
    "        A = (spmat.T @ sp.identity(spmat.shape[0], dtype='int64', format='csr') @ spmat).toarray()\n",
    "        A = np.diag(1/np.power(ubiquity,x)) @ A @ np.diag(1/np.power(ubiquity,1-x))\n",
    "        if x<0.5:\n",
    "            A = np.minimum(A, A.T)\n",
    "        else:\n",
    "            A = np.maximum(A, A.T)\n",
    "    if method=='rca':\n",
    "        A = (spmat.T @ sp.identity(spmat.shape[0], dtype='int64', format='csr') @ spmat).toarray()\n",
    "        np.fill_diagonal(A, 0)\n",
    "        sz = A.sum(axis=0)\n",
    "        sz[sz<1] = 1\n",
    "        A = np.diag(1/sz) @ A @ np.diag(1/sz) * A.sum()\n",
    "        if param == 'posi':\n",
    "            A[A<1] = 0\n",
    "        A = A / (A+1)\n",
    "    if method=='pearson':\n",
    "        spmat2 = spmat.astype(np.float64)\n",
    "        ubiquity = spmat2.sum(axis=0).A1\n",
    "        centering = (np.outer(ubiquity, ubiquity)/spmat2.shape[0])\n",
    "        A = (spmat2.T @ sp.identity(spmat2.shape[0], dtype='int64', format='csr') @ spmat2).toarray()\n",
    "        A = (A - centering) / (spmat2.shape[0] - 1)\n",
    "        d = np.copy(np.diag(A))\n",
    "        d[d==0]=1\n",
    "        A = A / np.sqrt(np.outer(d, d))\n",
    "        if param=='posi':\n",
    "            A[A<0] = 0\n",
    "        else:\n",
    "            A = (A+1)/2\n",
    "    np.fill_diagonal(A, 0)\n",
    "    return A"
   ]
  },
  {
   "cell_type": "code",
   "execution_count": 3,
   "metadata": {},
   "outputs": [],
   "source": [
    "## generate relatedness matrices from continuous dataset\n",
    "def proximity_from_valspmat(spmat,method,param=None):\n",
    "    if method=='cosine':\n",
    "        from sklearn.metrics.pairwise import cosine_similarity\n",
    "        A = cosine_similarity(spmat.T)\n",
    "        if param=='posi':\n",
    "            A[A<0] = 0\n",
    "        else:\n",
    "            A = (A+1)/2\n",
    "    if method=='pearson':\n",
    "        ubiquity = spmat.sum(axis=0).A1\n",
    "        centering = (np.outer(ubiquity, ubiquity)/spmat.shape[0])\n",
    "        A = (spmat.T @ spmat).toarray()\n",
    "        A = (A - centering) / (spmat.shape[0] - 1)\n",
    "        d = np.copy(np.diag(A))\n",
    "        d[d==0]=1\n",
    "        A = A / np.sqrt(np.outer(d, d))\n",
    "        if param=='posi':\n",
    "            A[A<0] = 0\n",
    "        else:\n",
    "            A = (A+1)/2\n",
    "    np.fill_diagonal(A, 0)\n",
    "    return A"
   ]
  },
  {
   "cell_type": "code",
   "execution_count": 4,
   "metadata": {},
   "outputs": [],
   "source": [
    "def proximity_from_valmcp(mcp,method,param=None):\n",
    "    if method=='pearson':\n",
    "        A = np.corrcoef(mcp,rowvar=False)\n",
    "        A[np.isnan(A)]=0\n",
    "        if param=='posi':\n",
    "            A[A<0] = 0\n",
    "        else:\n",
    "            A = (A+1)/2\n",
    "    elif method=='cosine':\n",
    "        from sklearn.metrics.pairwise import cosine_similarity\n",
    "        A = cosine_similarity(mcp.T)\n",
    "        A[np.isnan(A)]=0\n",
    "        if param=='posi':\n",
    "            A[A<0] = 0\n",
    "        else:\n",
    "            A = (A+1)/2\n",
    "    np.fill_diagonal(A, 0)\n",
    "    return A"
   ]
  },
  {
   "cell_type": "code",
   "execution_count": 5,
   "metadata": {},
   "outputs": [],
   "source": [
    "varlist = [\n",
    "    \"region\",\n",
    "    \"ind\",\n",
    "    \"raw\",\n",
    "    \"lograw\",\n",
    "    \"rca\",\n",
    "    \"rca2\",\n",
    "    \"pmi\",\n",
    "    \"ppmi\",\n",
    "    \"feresid\",\n",
    "    \"resid\",\n",
    "    \"posresid\",\n",
    "    \"bin\",\n",
    "    \"bin_rca\",\n",
    "    \"bin_feresid\",\n",
    "    \"bin_resid\",\n",
    "    \"bin_posresid\",\n",
    "]"
   ]
  },
  {
   "cell_type": "code",
   "execution_count": 6,
   "metadata": {},
   "outputs": [],
   "source": [
    "binparamdict = {\n",
    "    \"condprob\": [f'{x:0.1f}' for x in np.linspace(0,1,11)],\n",
    "    \"rca\": [\"posi\", \"all\"],\n",
    "    \"pearson\": [\"posi\", \"all\"],\n",
    "}"
   ]
  },
  {
   "cell_type": "code",
   "execution_count": 7,
   "metadata": {},
   "outputs": [
    {
     "name": "stdout",
     "output_type": "stream",
     "text": [
      "111\n"
     ]
    }
   ],
   "source": [
    "## create parameter combination in the grid\n",
    "proxfile = open('proximity/coproduction/proximity.tsv','w')\n",
    "writer = csv.writer(proxfile,delimiter='\\t')\n",
    "writer.writerow(['pid','datasource','method','param'])\n",
    "proxid = 0\n",
    "for var in [\"bin\",\"bin_rca\",\"bin_feresid\",\"bin_resid\",\"bin_posresid\"]:\n",
    "    for method in ['condprob','rca','pearson']:\n",
    "        for param in binparamdict[method]:\n",
    "            writer.writerow([proxid,var,method,param])\n",
    "            proxid = proxid+1\n",
    "for var in [\"raw\",\"lograw\",\"rca\",\"rca2\"]:\n",
    "    for method in ['pearson','cosine']:\n",
    "        for param in ['posi','all']:\n",
    "            writer.writerow([proxid,var,method,param])\n",
    "            proxid = proxid+1\n",
    "for var in [\"pmi\"]:\n",
    "    for method in ['pearson','cosine']:\n",
    "        for param in ['posi','all']:\n",
    "            writer.writerow([proxid,var,method,param])\n",
    "            proxid = proxid+1\n",
    "for var in [\"ppmi\"]:\n",
    "    for method in ['pearson','cosine']:\n",
    "        for param in ['posi','all']:\n",
    "            writer.writerow([proxid,var,method,param])\n",
    "            proxid = proxid+1\n",
    "for var in [\"feresid\",\"resid\",\"posresid\"]:\n",
    "    for method in ['pearson','cosine']:\n",
    "        for param in ['posi','all']:\n",
    "            writer.writerow([proxid,var,method,param])\n",
    "            proxid = proxid+1\n",
    "proxfile.close()\n",
    "print(proxid)"
   ]
  },
  {
   "cell_type": "code",
   "execution_count": null,
   "metadata": {},
   "outputs": [],
   "source": [
    "## create relatedness matrices for each training dataset for each combination above\n",
    "## The .npz are sparse mcp-style matrices of establishement-industry\n",
    "proxid = 0\n",
    "for var in [\"bin\",\"bin_rca\",\"bin_feresid\",\"bin_resid\",\"bin_posresid\"]:\n",
    "    spmat = sp.load_npz(f'coprodmat/coprod_{var}_spmat_2011.npz')\n",
    "    for method in ['condprob','rca','pearson']:\n",
    "        for param in binparamdict[method]:\n",
    "            A = proximity_from_binspmat(spmat,method,param)\n",
    "            np.save(f'proximity/coproduction/{proxid}.npy', A)\n",
    "            proxid = proxid+1\n",
    "for var in [\"raw\",\"lograw\",\"rca\",\"rca2\"]:\n",
    "    spmat = sp.load_npz(f'coprodmat/coprod_{var}_spmat_2011.npz')\n",
    "    for method in ['pearson','cosine']:\n",
    "        for param in ['posi','all']:\n",
    "            A = proximity_from_valspmat(spmat,method,param)\n",
    "            np.save(f'proximity/coproduction/{proxid}.npy', A)\n",
    "            proxid = proxid+1\n",
    "for var in [\"pmi\"]:\n",
    "    mcp = np.load(f'coprodmat/coprod_{var}_npmat_2011.npy')\n",
    "    for method in ['pearson','cosine']:\n",
    "        for param in ['posi','all']:\n",
    "            A = proximity_from_valmcp(mcp,method,param)\n",
    "            np.save(f'proximity/coproduction/{proxid}.npy', A)\n",
    "            proxid = proxid+1\n",
    "for var in [\"ppmi\"]:\n",
    "    spmat = sp.load_npz(f'coprodmat/coprod_{var}_spmat_2011.npz')\n",
    "    for method in ['pearson','cosine']:\n",
    "        for param in ['posi','all']:\n",
    "            A = proximity_from_valspmat(spmat,method,param)\n",
    "            np.save(f'proximity/coproduction/{proxid}.npy', A)\n",
    "            proxid = proxid+1\n",
    "for var in [\"feresid\",\"resid\",\"posresid\"]:\n",
    "    mcp = np.load(f'coprodmat/coprod_{var}_npmat_2011.npy')\n",
    "    for method in ['pearson','cosine']:\n",
    "        for param in ['posi','all']:\n",
    "            A = proximity_from_valmcp(mcp,method,param)\n",
    "            np.save(f'proximity/coproduction/{proxid}.npy', A)\n",
    "            proxid = proxid+1"
   ]
  },
  {
   "cell_type": "code",
   "execution_count": 9,
   "metadata": {},
   "outputs": [
    {
     "name": "stdout",
     "output_type": "stream",
     "text": [
      "111\n"
     ]
    }
   ],
   "source": [
    "print(proxid)"
   ]
  },
  {
   "cell_type": "code",
   "execution_count": null,
   "metadata": {},
   "outputs": [],
   "source": []
  }
 ],
 "metadata": {
  "kernelspec": {
   "display_name": "Python 3 (ipykernel)",
   "language": "python",
   "name": "python3"
  },
  "language_info": {
   "codemirror_mode": {
    "name": "ipython",
    "version": 3
   },
   "file_extension": ".py",
   "mimetype": "text/x-python",
   "name": "python",
   "nbconvert_exporter": "python",
   "pygments_lexer": "ipython3",
   "version": "3.8.12"
  }
 },
 "nbformat": 4,
 "nbformat_minor": 4
}
