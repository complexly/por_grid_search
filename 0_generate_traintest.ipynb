{
 "cells": [
  {
   "cell_type": "code",
   "execution_count": 1,
   "metadata": {},
   "outputs": [],
   "source": [
    "## load necessary packages\n",
    "import pandas as pd\n",
    "import numpy as np\n",
    "from sklearn.model_selection import KFold\n",
    "from sklearn.linear_model import LinearRegression\n",
    "import statsmodels.formula.api as smf\n",
    "import statsmodels.api as sm\n",
    "import pyhdfe"
   ]
  },
  {
   "cell_type": "code",
   "execution_count": 2,
   "metadata": {},
   "outputs": [
    {
     "data": {
      "text/html": [
       "<div>\n",
       "<style scoped>\n",
       "    .dataframe tbody tr th:only-of-type {\n",
       "        vertical-align: middle;\n",
       "    }\n",
       "\n",
       "    .dataframe tbody tr th {\n",
       "        vertical-align: top;\n",
       "    }\n",
       "\n",
       "    .dataframe thead th {\n",
       "        text-align: right;\n",
       "    }\n",
       "</style>\n",
       "<table border=\"1\" class=\"dataframe\">\n",
       "  <thead>\n",
       "    <tr style=\"text-align: right;\">\n",
       "      <th></th>\n",
       "      <th>ind</th>\n",
       "      <th>indtype</th>\n",
       "    </tr>\n",
       "  </thead>\n",
       "  <tbody>\n",
       "    <tr>\n",
       "      <th>0</th>\n",
       "      <td>011</td>\n",
       "      <td>geo</td>\n",
       "    </tr>\n",
       "    <tr>\n",
       "      <th>1</th>\n",
       "      <td>013</td>\n",
       "      <td>geo</td>\n",
       "    </tr>\n",
       "    <tr>\n",
       "      <th>2</th>\n",
       "      <td>016</td>\n",
       "      <td>geo</td>\n",
       "    </tr>\n",
       "    <tr>\n",
       "      <th>3</th>\n",
       "      <td>017</td>\n",
       "      <td>geo</td>\n",
       "    </tr>\n",
       "    <tr>\n",
       "      <th>4</th>\n",
       "      <td>018</td>\n",
       "      <td>geo</td>\n",
       "    </tr>\n",
       "    <tr>\n",
       "      <th>...</th>\n",
       "      <td>...</td>\n",
       "      <td>...</td>\n",
       "    </tr>\n",
       "    <tr>\n",
       "      <th>410</th>\n",
       "      <td>964</td>\n",
       "      <td>public</td>\n",
       "    </tr>\n",
       "    <tr>\n",
       "      <th>411</th>\n",
       "      <td>965</td>\n",
       "      <td>public</td>\n",
       "    </tr>\n",
       "    <tr>\n",
       "      <th>412</th>\n",
       "      <td>966</td>\n",
       "      <td>public</td>\n",
       "    </tr>\n",
       "    <tr>\n",
       "      <th>413</th>\n",
       "      <td>971</td>\n",
       "      <td>public</td>\n",
       "    </tr>\n",
       "    <tr>\n",
       "      <th>414</th>\n",
       "      <td>972</td>\n",
       "      <td>public</td>\n",
       "    </tr>\n",
       "  </tbody>\n",
       "</table>\n",
       "<p>415 rows × 2 columns</p>\n",
       "</div>"
      ],
      "text/plain": [
       "     ind indtype\n",
       "0    011     geo\n",
       "1    013     geo\n",
       "2    016     geo\n",
       "3    017     geo\n",
       "4    018     geo\n",
       "..   ...     ...\n",
       "410  964  public\n",
       "411  965  public\n",
       "412  966  public\n",
       "413  971  public\n",
       "414  972  public\n",
       "\n",
       "[415 rows x 2 columns]"
      ]
     },
     "execution_count": 2,
     "metadata": {},
     "output_type": "execute_result"
    }
   ],
   "source": [
    "## load industry types, see online supplementary document of the paper\n",
    "indtype = pd.read_csv('processdb/indtype.tsv',sep='\\t',dtype='str')\n",
    "indtype.columns=['ind','indtype']\n",
    "indtype"
   ]
  },
  {
   "cell_type": "markdown",
   "metadata": {},
   "source": [
    "## Load region-ind data"
   ]
  },
  {
   "cell_type": "code",
   "execution_count": 3,
   "metadata": {},
   "outputs": [],
   "source": [
    "## load data and create indicators and growth rate\n",
    "def load_ind_vec(var,ind='sic'):\n",
    "    indvecdf = pd.read_parquet(f\"processdb/msa_{ind}.parquet\",columns=['CBSAFP',ind,f'num_{var}_2011',f'num_{var}_2019']) ## defaults to all\n",
    "    indvecdf = indvecdf[(indvecdf[ind]!='9999')].rename(columns={'CBSAFP':'region',f'num_{var}_2011':'raw',f'num_{var}_2019':'after8'})\n",
    "    indvecdf['ind'] = indvecdf[ind].str[:3]\n",
    "    indvecdf = indvecdf.groupby(['region','ind'])[['raw','after8']].sum().reset_index()\n",
    "    indvecdf[['raw','after8']]=indvecdf[['raw','after8']].astype(int)\n",
    "    regions = sorted(indvecdf['region'].unique().tolist())\n",
    "    inds = sorted(indvecdf['ind'].unique().tolist())\n",
    "    index = pd.MultiIndex.from_product([regions,inds],names=['region','ind'])\n",
    "    indvecdf = pd.DataFrame(index = index).reset_index().merge(indvecdf,how='left').fillna(0).merge(indtype,how='left')\n",
    "    indvecdf = indvecdf.sort_values(['region','ind']).reset_index(drop=True)\n",
    "    indvecdf['exist'] = indvecdf.raw>0\n",
    "    indvecdf['existafter8'] = indvecdf.after8>0\n",
    "    indvecdf['growth8'] = np.log(indvecdf['after8']/indvecdf.raw)/8\n",
    "    print(len(regions),len(inds))\n",
    "    return indvecdf,inds"
   ]
  },
  {
   "cell_type": "code",
   "execution_count": 4,
   "metadata": {},
   "outputs": [
    {
     "name": "stdout",
     "output_type": "stream",
     "text": [
      "927 415\n"
     ]
    },
    {
     "name": "stderr",
     "output_type": "stream",
     "text": [
      "/nfs/bigdata_nobackup/c/cid_postdoc/yang/conda/envs/py38/lib/python3.8/site-packages/pandas/core/arraylike.py:364: RuntimeWarning: divide by zero encountered in log\n",
      "  result = getattr(ufunc, method)(*inputs, **kwargs)\n"
     ]
    },
    {
     "data": {
      "text/html": [
       "<div>\n",
       "<style scoped>\n",
       "    .dataframe tbody tr th:only-of-type {\n",
       "        vertical-align: middle;\n",
       "    }\n",
       "\n",
       "    .dataframe tbody tr th {\n",
       "        vertical-align: top;\n",
       "    }\n",
       "\n",
       "    .dataframe thead th {\n",
       "        text-align: right;\n",
       "    }\n",
       "</style>\n",
       "<table border=\"1\" class=\"dataframe\">\n",
       "  <thead>\n",
       "    <tr style=\"text-align: right;\">\n",
       "      <th></th>\n",
       "      <th>region</th>\n",
       "      <th>ind</th>\n",
       "      <th>raw</th>\n",
       "      <th>after8</th>\n",
       "      <th>indtype</th>\n",
       "      <th>exist</th>\n",
       "      <th>existafter8</th>\n",
       "      <th>growth8</th>\n",
       "    </tr>\n",
       "  </thead>\n",
       "  <tbody>\n",
       "    <tr>\n",
       "      <th>0</th>\n",
       "      <td>10100</td>\n",
       "      <td>011</td>\n",
       "      <td>367.0</td>\n",
       "      <td>324.0</td>\n",
       "      <td>geo</td>\n",
       "      <td>True</td>\n",
       "      <td>True</td>\n",
       "      <td>-0.015577</td>\n",
       "    </tr>\n",
       "    <tr>\n",
       "      <th>1</th>\n",
       "      <td>10100</td>\n",
       "      <td>013</td>\n",
       "      <td>11.0</td>\n",
       "      <td>40.0</td>\n",
       "      <td>geo</td>\n",
       "      <td>True</td>\n",
       "      <td>True</td>\n",
       "      <td>0.161373</td>\n",
       "    </tr>\n",
       "    <tr>\n",
       "      <th>2</th>\n",
       "      <td>10100</td>\n",
       "      <td>016</td>\n",
       "      <td>5.0</td>\n",
       "      <td>3.0</td>\n",
       "      <td>geo</td>\n",
       "      <td>True</td>\n",
       "      <td>True</td>\n",
       "      <td>-0.063853</td>\n",
       "    </tr>\n",
       "    <tr>\n",
       "      <th>3</th>\n",
       "      <td>10100</td>\n",
       "      <td>017</td>\n",
       "      <td>0.0</td>\n",
       "      <td>0.0</td>\n",
       "      <td>geo</td>\n",
       "      <td>False</td>\n",
       "      <td>False</td>\n",
       "      <td>NaN</td>\n",
       "    </tr>\n",
       "    <tr>\n",
       "      <th>4</th>\n",
       "      <td>10100</td>\n",
       "      <td>018</td>\n",
       "      <td>6.0</td>\n",
       "      <td>4.0</td>\n",
       "      <td>geo</td>\n",
       "      <td>True</td>\n",
       "      <td>True</td>\n",
       "      <td>-0.050683</td>\n",
       "    </tr>\n",
       "  </tbody>\n",
       "</table>\n",
       "</div>"
      ],
      "text/plain": [
       "  region  ind    raw  after8 indtype  exist  existafter8   growth8\n",
       "0  10100  011  367.0   324.0     geo   True         True -0.015577\n",
       "1  10100  013   11.0    40.0     geo   True         True  0.161373\n",
       "2  10100  016    5.0     3.0     geo   True         True -0.063853\n",
       "3  10100  017    0.0     0.0     geo  False        False       NaN\n",
       "4  10100  018    6.0     4.0     geo   True         True -0.050683"
      ]
     },
     "execution_count": 4,
     "metadata": {},
     "output_type": "execute_result"
    }
   ],
   "source": [
    "var = 'emp'\n",
    "indvecdf,inds = load_ind_vec(var)\n",
    "indvecdf.head()"
   ]
  },
  {
   "cell_type": "code",
   "execution_count": 5,
   "metadata": {},
   "outputs": [
    {
     "data": {
      "text/plain": [
       "region          object\n",
       "ind             object\n",
       "raw            float64\n",
       "after8         float64\n",
       "indtype         object\n",
       "exist             bool\n",
       "existafter8       bool\n",
       "growth8        float64\n",
       "dtype: object"
      ]
     },
     "execution_count": 5,
     "metadata": {},
     "output_type": "execute_result"
    }
   ],
   "source": [
    "indvecdf.dtypes"
   ]
  },
  {
   "cell_type": "code",
   "execution_count": null,
   "metadata": {},
   "outputs": [],
   "source": [
    "## generate 100 (20*5 fold) train-test samples from the raw data and create variables used in grid search\n",
    "for i in range(20):\n",
    "    kf = KFold(n_splits=5,random_state=42+i*3,shuffle=True)\n",
    "    idx = kf.split(indvecdf)\n",
    "    testlist = [y for x,y in idx]\n",
    "    for j in range(5):\n",
    "        train = indvecdf.copy()\n",
    "        train['rawraw'] = train.raw\n",
    "        train['testidx'] = False\n",
    "        train.loc[testlist[j], \"testidx\"] = True\n",
    "        train.loc[testlist[j], \"raw\"] = 0\n",
    "        train['bin'] = np.where(train.raw>0,1,0)\n",
    "        train['regionsum'] = train.groupby('region')['raw'].transform('sum')\n",
    "        train['indsum'] = train.groupby('ind')['raw'].transform('sum')\n",
    "        train['regionsum'] = np.where(train['regionsum']>1,train['regionsum'],1)\n",
    "        train['indsum'] = np.where(train['indsum']>1,train['indsum'],1)\n",
    "        total = train['raw'].sum()\n",
    "        train['rca'] = train['raw']*total/train['regionsum']/train['indsum']\n",
    "        train['rca2'] = train.rca/(train.rca+1)\n",
    "        train['bin_rca'] = np.where(train.rca>1,1,0)\n",
    "        train['regionsum'] = np.log(train['regionsum'])\n",
    "        train['indsum'] = np.log(train['indsum'])\n",
    "        train['lograw'] = np.log(train.raw+1)\n",
    "        train['lograwraw'] = np.log(train.rawraw+1)\n",
    "        train['pmi'] = train.lograw + np.log(total) - train.regionsum - train.indsum\n",
    "        train['ppmi'] = np.where(train.rca>1,np.log(train.rca),0)\n",
    "        algorithm = pyhdfe.create(train[['region','ind']],drop_singletons=False)\n",
    "        residualized = algorithm.residualize(train['lograw'].values.reshape(-1, 1))\n",
    "        train['feresid'] = residualized\n",
    "        train['fepred'] = train['lograw'] - train['feresid']\n",
    "        train['intercept'] = 1.0\n",
    "        reg = LinearRegression().fit(train[['regionsum','indsum']], train.lograw)\n",
    "        train['bslpred'] = reg.predict(train[['regionsum','indsum']])\n",
    "        train['resid'] = train['lograw'] - train['bslpred']\n",
    "        pos = smf.glm('raw~regionsum+indsum', data=train,family=sm.families.Poisson()).fit(disp=0)\n",
    "        train['pospred'] = np.log(pos.predict()+1)\n",
    "        train['posresid'] = train['lograw'] - train['pospred']\n",
    "        train['bin_feresid'] = np.where(train.feresid>0,1,0)\n",
    "        train['bin_resid'] = np.where(train.resid>0,1,0)\n",
    "        train['bin_posresid'] = np.where(train.posresid>0,1,0)\n",
    "        train.to_parquet(f'data/sample{i*5+j}.parquet',index=False,compression='gzip')\n",
    "        del algorithm,residualized,reg,pos,train,total"
   ]
  },
  {
   "cell_type": "code",
   "execution_count": 8,
   "metadata": {},
   "outputs": [
    {
     "data": {
      "text/plain": [
       "Index(['region', 'ind', 'raw', 'after8', 'indtype', 'exist', 'existafter8',\n",
       "       'growth8', 'rawraw', 'testidx', 'bin', 'regionsum', 'indsum', 'rca',\n",
       "       'rca2', 'bin_rca', 'lograw', 'lograwraw', 'pmi', 'ppmi', 'feresid',\n",
       "       'fepred', 'intercept', 'bslpred', 'resid', 'pospred', 'posresid',\n",
       "       'bin_feresid', 'bin_resid', 'bin_posresid'],\n",
       "      dtype='object')"
      ]
     },
     "execution_count": 8,
     "metadata": {},
     "output_type": "execute_result"
    }
   ],
   "source": [
    "sample = pd.read_parquet(f'data/sample99.parquet')\n",
    "sample.columns"
   ]
  },
  {
   "cell_type": "code",
   "execution_count": null,
   "metadata": {},
   "outputs": [],
   "source": []
  }
 ],
 "metadata": {
  "kernelspec": {
   "display_name": "Python 3",
   "language": "python",
   "name": "python3"
  },
  "language_info": {
   "codemirror_mode": {
    "name": "ipython",
    "version": 3
   },
   "file_extension": ".py",
   "mimetype": "text/x-python",
   "name": "python",
   "nbconvert_exporter": "python",
   "pygments_lexer": "ipython3",
   "version": "3.8.2"
  }
 },
 "nbformat": 4,
 "nbformat_minor": 4
}
