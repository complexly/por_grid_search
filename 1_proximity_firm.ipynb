{
 "cells": [
  {
   "cell_type": "code",
   "execution_count": 1,
   "metadata": {},
   "outputs": [],
   "source": [
    "import pandas as pd\n",
    "import numpy as np\n",
    "import networkx as nx\n",
    "import csv\n",
    "_= np.seterr(divide = 'ignore') "
   ]
  },
  {
   "cell_type": "code",
   "execution_count": 2,
   "metadata": {},
   "outputs": [],
   "source": [
    "## generate relatedness matrices from binary dataset\n",
    "def proximity_from_binmcp(sample,var,method,param=None):\n",
    "    mcp = sample[var].values.reshape(-1,415).astype(np.float)\n",
    "    #diversity = mcp.sum(axis=1)\n",
    "    ubiquity = mcp.sum(axis=0)\n",
    "    #diversity[diversity<1] = 1\n",
    "    ubiquity[ubiquity<1] = 1\n",
    "    if method=='condprob':\n",
    "        x = float(param)\n",
    "        A = mcp.T @ mcp\n",
    "        A = np.diag(1/np.power(ubiquity,x)) @ A @ np.diag(1/np.power(ubiquity,1-x))\n",
    "        if x<0.5:\n",
    "            A = np.minimum(A, A.T)\n",
    "        else:\n",
    "            A = np.maximum(A, A.T)\n",
    "    elif method=='rca':\n",
    "        A = mcp.T @ mcp\n",
    "        np.fill_diagonal(A, 0)\n",
    "        sz = A.sum(axis=0)\n",
    "        sz[sz<1] = 1\n",
    "        A = np.diag(1/sz) @ A @ np.diag(1/sz) * A.sum()\n",
    "        if param == 'posi':\n",
    "            A[A<1] = 0\n",
    "        A = A / (A+1)\n",
    "    elif method=='pearson':\n",
    "        A = np.corrcoef(mcp,rowvar=False)\n",
    "        A[np.isnan(A)]=0\n",
    "        if param=='posi':\n",
    "            A[A<0] = 0\n",
    "        else:\n",
    "            A = (A+1)/2\n",
    "    np.fill_diagonal(A, 0)\n",
    "    return A"
   ]
  },
  {
   "cell_type": "code",
   "execution_count": 3,
   "metadata": {},
   "outputs": [],
   "source": [
    "## generate relatedness matrices from continuous dataset\n",
    "def proximity_from_valmcp(sample,var,method,param=None):\n",
    "    mcp = sample[var].values.reshape(-1,415)\n",
    "    if method=='pearson':\n",
    "        A = np.corrcoef(mcp,rowvar=False)\n",
    "        A[np.isnan(A)]=0\n",
    "        if param=='posi':\n",
    "            A[A<0] = 0\n",
    "        else:\n",
    "            A = (A+1)/2\n",
    "    elif method=='cosine':\n",
    "        from sklearn.metrics.pairwise import cosine_similarity\n",
    "        A = cosine_similarity(mcp.T)\n",
    "        A[np.isnan(A)]=0\n",
    "        if param=='posi':\n",
    "            A[A<0] = 0\n",
    "        else:\n",
    "            A = (A+1)/2\n",
    "    np.fill_diagonal(A, 0)\n",
    "    return A"
   ]
  },
  {
   "cell_type": "code",
   "execution_count": 4,
   "metadata": {},
   "outputs": [],
   "source": [
    "varlist = [\n",
    "    \"region\",\n",
    "    \"ind\",\n",
    "    \"raw\",\n",
    "    \"lograw\",\n",
    "    \"rca\",\n",
    "    \"rca2\",\n",
    "    \"pmi\",\n",
    "    \"ppmi\",\n",
    "    \"feresid\",\n",
    "    \"resid\",\n",
    "    \"posresid\",\n",
    "    \"bin\",\n",
    "    \"bin_rca\",\n",
    "    \"bin_feresid\",\n",
    "    \"bin_resid\",\n",
    "    \"bin_posresid\",\n",
    "]"
   ]
  },
  {
   "cell_type": "code",
   "execution_count": 5,
   "metadata": {},
   "outputs": [],
   "source": [
    "binparamdict = {\n",
    "    \"condprob\": [f'{x:0.1f}' for x in np.linspace(0,1,11)],\n",
    "    \"rca\": [\"posi\", \"all\"],\n",
    "    \"pearson\": [\"posi\", \"all\"],\n",
    "}"
   ]
  },
  {
   "cell_type": "code",
   "execution_count": 6,
   "metadata": {},
   "outputs": [
    {
     "name": "stdout",
     "output_type": "stream",
     "text": [
      "111\n"
     ]
    }
   ],
   "source": [
    "## create parameter combination in the grid\n",
    "proxfile = open('proximity/du1st/proximity.tsv','w')\n",
    "writer = csv.writer(proxfile,delimiter='\\t')\n",
    "writer.writerow(['pid','datasource','method','param'])\n",
    "proxid = 0\n",
    "for var in [\"bin\",\"bin_rca\",\"bin_feresid\",\"bin_resid\",\"bin_posresid\"]:\n",
    "    for method in ['condprob','rca','pearson']:\n",
    "        for param in binparamdict[method]:\n",
    "            writer.writerow([proxid,var,method,param])\n",
    "            proxid = proxid+1\n",
    "for var in [\"raw\",\"lograw\",\"rca\",\"rca2\",\"pmi\",\"ppmi\",\"feresid\",\"resid\",\"posresid\"]:\n",
    "    for method in ['pearson','cosine']:\n",
    "        for param in ['posi','all']:\n",
    "            writer.writerow([proxid,var,method,param])\n",
    "            proxid = proxid+1\n",
    "proxfile.close()\n",
    "print(proxid)"
   ]
  },
  {
   "cell_type": "code",
   "execution_count": null,
   "metadata": {},
   "outputs": [],
   "source": [
    "## create relatedness matrices for each training dataset for each combination above\n",
    "## The .npz are sparse mcp-style matrices of firm-industry\n",
    "sampledf = pd.read_parquet(f'du1stdf_metric.parquet',columns=varlist)\n",
    "proxid = 0\n",
    "for var in [\"bin\",\"bin_rca\",\"bin_feresid\",\"bin_resid\",\"bin_posresid\"]:\n",
    "    for method in ['condprob','rca','pearson']:\n",
    "        for param in binparamdict[method]:\n",
    "            A = proximity_from_binmcp(sampledf,var,method,param)\n",
    "            np.save(f'proximity/du1st/{proxid}.npy', A)\n",
    "            proxid = proxid+1\n",
    "for var in [\"raw\",\"lograw\",\"rca\",\"rca2\",\"pmi\",\"ppmi\",\"feresid\",\"resid\",\"posresid\"]:\n",
    "    for method in ['pearson','cosine']:\n",
    "        for param in ['posi','all']:\n",
    "            A = proximity_from_valmcp(sampledf,var,method,param)\n",
    "            np.save(f'proximity/du1st/{proxid}.npy', A)\n",
    "            proxid = proxid+1"
   ]
  },
  {
   "cell_type": "code",
   "execution_count": 8,
   "metadata": {},
   "outputs": [
    {
     "name": "stdout",
     "output_type": "stream",
     "text": [
      "111\n"
     ]
    }
   ],
   "source": [
    "print(proxid)"
   ]
  },
  {
   "cell_type": "code",
   "execution_count": null,
   "metadata": {},
   "outputs": [],
   "source": []
  }
 ],
 "metadata": {
  "kernelspec": {
   "display_name": "Python 3 (ipykernel)",
   "language": "python",
   "name": "python3"
  },
  "language_info": {
   "codemirror_mode": {
    "name": "ipython",
    "version": 3
   },
   "file_extension": ".py",
   "mimetype": "text/x-python",
   "name": "python",
   "nbconvert_exporter": "python",
   "pygments_lexer": "ipython3",
   "version": "3.8.12"
  }
 },
 "nbformat": 4,
 "nbformat_minor": 4
}
